{
 "cells": [
  {
   "cell_type": "markdown",
   "id": "6b2eae55-091c-4f5f-adf1-26a24d417c30",
   "metadata": {},
   "source": [
    "Bubble sort"
   ]
  },
  {
   "cell_type": "code",
   "execution_count": 27,
   "id": "3b9e566e-25ff-43c6-86f6-262504be57ea",
   "metadata": {},
   "outputs": [],
   "source": [
    "list1 = [5, 3, 8, 6, 7, 2]"
   ]
  },
  {
   "cell_type": "code",
   "execution_count": 5,
   "id": "319029a8-3c26-4983-ac8e-fd4bfda805a8",
   "metadata": {},
   "outputs": [
    {
     "data": {
      "text/plain": [
       "[0, 1, 2, 3, 4, 5]"
      ]
     },
     "execution_count": 5,
     "metadata": {},
     "output_type": "execute_result"
    }
   ],
   "source": [
    "list(range(0,len(list1)))"
   ]
  },
  {
   "cell_type": "code",
   "execution_count": 37,
   "id": "3ce27edc-7b39-4d66-b786-1de678581e97",
   "metadata": {},
   "outputs": [],
   "source": [
    "def bubble_sort_m1(list1):\n",
    "    for i in range(len(list1) -1):\n",
    "        # print(\"i\", i)\n",
    "        for j in range(len(list1)-1):\n",
    "            # print(j, end=\" \")\n",
    "            if list1[j] > list1[j+1]:\n",
    "                list1[j], list1[j+1] = list1[j +1], list1[j]\n",
    "            # print(list1)\n",
    "        # print(\"\\n\")\n",
    "    return list1\n"
   ]
  },
  {
   "cell_type": "code",
   "execution_count": 38,
   "id": "b039f8c8-64cb-4e0e-a4d7-afd2c5eeac2f",
   "metadata": {},
   "outputs": [
    {
     "name": "stdout",
     "output_type": "stream",
     "text": [
      "[2, 3, 5, 6, 7, 8]\n"
     ]
    }
   ],
   "source": [
    "list1 = [5, 3, 8, 6, 7, 2]\n",
    "sorted_list = bubble_sort_m1(list1)\n",
    "print(sorted_list)"
   ]
  },
  {
   "cell_type": "code",
   "execution_count": null,
   "id": "68ea8dbb-5b9d-453a-aae9-10d777f1fe2b",
   "metadata": {},
   "outputs": [],
   "source": []
  },
  {
   "cell_type": "code",
   "execution_count": 39,
   "id": "d5913dc2-2296-4f76-a94d-0ffa10f2817e",
   "metadata": {},
   "outputs": [],
   "source": [
    "def bubble_sort_m2(list1):\n",
    "    n = len(list1)\n",
    "    for i in range(n -1):\n",
    "        print(\"i\", i)\n",
    "        for j in range(n - i - 1):\n",
    "            print(j, end=\" \")\n",
    "            if list1[j] > list1[j+1]:\n",
    "                list1[j], list1[j+1] = list1[j +1], list1[j]\n",
    "            print(list1)\n",
    "        print(\"\\n\")\n",
    "    return list1"
   ]
  },
  {
   "cell_type": "code",
   "execution_count": 40,
   "id": "8b5877d9-7848-407c-b973-e1c77e5d818e",
   "metadata": {},
   "outputs": [
    {
     "name": "stdout",
     "output_type": "stream",
     "text": [
      "i 0\n",
      "0 [3, 5, 8, 6, 7, 2]\n",
      "1 [3, 5, 8, 6, 7, 2]\n",
      "2 [3, 5, 6, 8, 7, 2]\n",
      "3 [3, 5, 6, 7, 8, 2]\n",
      "4 [3, 5, 6, 7, 2, 8]\n",
      "\n",
      "\n",
      "i 1\n",
      "0 [3, 5, 6, 7, 2, 8]\n",
      "1 [3, 5, 6, 7, 2, 8]\n",
      "2 [3, 5, 6, 7, 2, 8]\n",
      "3 [3, 5, 6, 2, 7, 8]\n",
      "\n",
      "\n",
      "i 2\n",
      "0 [3, 5, 6, 2, 7, 8]\n",
      "1 [3, 5, 6, 2, 7, 8]\n",
      "2 [3, 5, 2, 6, 7, 8]\n",
      "\n",
      "\n",
      "i 3\n",
      "0 [3, 5, 2, 6, 7, 8]\n",
      "1 [3, 2, 5, 6, 7, 8]\n",
      "\n",
      "\n",
      "i 4\n",
      "0 [2, 3, 5, 6, 7, 8]\n",
      "\n",
      "\n",
      "[2, 3, 5, 6, 7, 8]\n"
     ]
    }
   ],
   "source": [
    "list1 = [5, 3, 8, 6, 7, 2]\n",
    "sorted_list = bubble_sort_m2(list1)\n",
    "print(sorted_list)"
   ]
  },
  {
   "cell_type": "code",
   "execution_count": 46,
   "id": "c748c49c-3c89-4ec6-a067-6ddc19367549",
   "metadata": {},
   "outputs": [
    {
     "name": "stdout",
     "output_type": "stream",
     "text": [
      "0 1 2 3 4 5 6 7\n"
     ]
    }
   ],
   "source": [
    "# Python3 program for the above approach\n",
    "\n",
    "# Function to implement bubble\n",
    "# sort without using loops\n",
    "def bubble_sort_recursion(ar):\n",
    "\n",
    "\t# Base Case: If array\n",
    "\t# contains a single element\n",
    "\tif len(ar) <= 1:\n",
    "\t\treturn ar\n",
    "\t\n",
    "\t# Base Case: If array\n",
    "\t# contains two elements\n",
    "\tif len(ar) == 2:\n",
    "\t\treturn ar if ar[0] < ar[1] else [ar[1], ar[0]]\n",
    "\n",
    "\t# Store the first two elements\n",
    "\t# of the list in variables a and b\n",
    "\ta, b = ar[0], ar[1]\n",
    "\n",
    "\t# Store remaining elements\n",
    "\t# in the list bs\n",
    "\tbs = ar[2:]\n",
    "\n",
    "\t# Store the list after\n",
    "\t# each recursive call\n",
    "\tres = []\n",
    "\t\n",
    "\t# If a < b\n",
    "\tif a < b:\n",
    "\t\tres = [a] + bubble_sort_recursion([b] + bs)\n",
    "\t\t\n",
    "\t# Otherwise, if b >= a\n",
    "\telse:\n",
    "\t\tres = [b] + bubble_sort_recursion([a] + bs)\n",
    "\t\t\n",
    "\t# Recursively call for the list\n",
    "\t# less than the last element and\n",
    "\t# and return the newly formed list\n",
    "\treturn bubble_sort_recursion(res[:-1]) + res[-1:]\n",
    "\n",
    "\n",
    "# Driver Code\n",
    "\n",
    "arr = [1, 3, 4, 5, 6, 2, 7, 0]\n",
    "res = bubble_sort_recursion(arr)\n",
    "\n",
    "# Print the array\n",
    "print(*res)\n"
   ]
  },
  {
   "cell_type": "code",
   "execution_count": null,
   "id": "38589cb6-7be3-4c07-92a6-0120c71bcdba",
   "metadata": {},
   "outputs": [],
   "source": []
  },
  {
   "cell_type": "code",
   "execution_count": null,
   "id": "66ff8b53-baf7-46e2-9e34-ff7b3e2a1e64",
   "metadata": {},
   "outputs": [],
   "source": []
  }
 ],
 "metadata": {
  "kernelspec": {
   "display_name": "Python 3 (ipykernel)",
   "language": "python",
   "name": "python3"
  },
  "language_info": {
   "codemirror_mode": {
    "name": "ipython",
    "version": 3
   },
   "file_extension": ".py",
   "mimetype": "text/x-python",
   "name": "python",
   "nbconvert_exporter": "python",
   "pygments_lexer": "ipython3",
   "version": "3.7.9"
  }
 },
 "nbformat": 4,
 "nbformat_minor": 5
}
