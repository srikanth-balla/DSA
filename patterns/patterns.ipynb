{
 "cells": [
  {
   "cell_type": "markdown",
   "id": "4eee53c4-a497-4431-9181-1afa8fb17760",
   "metadata": {},
   "source": [
    "# Patterns programs"
   ]
  },
  {
   "cell_type": "code",
   "execution_count": 1,
   "id": "b40b36af-bd05-4630-8a6a-3abe4acdbcb0",
   "metadata": {},
   "outputs": [],
   "source": [
    "def pattern1(n):\n",
    "    n_rows = n\n",
    "    for row in range(0, n_rows):\n",
    "        for col in range(0, n_rows):\n",
    "            print(\"* \", end = \"\")\n",
    "        print(\"\\n\")"
   ]
  },
  {
   "cell_type": "code",
   "execution_count": 2,
   "id": "ee107817-bfd9-445c-bae2-007cd2a90f67",
   "metadata": {},
   "outputs": [
    {
     "name": "stdout",
     "output_type": "stream",
     "text": [
      "* * * * * \n",
      "\n",
      "* * * * * \n",
      "\n",
      "* * * * * \n",
      "\n",
      "* * * * * \n",
      "\n",
      "* * * * * \n",
      "\n"
     ]
    }
   ],
   "source": [
    "pattern1(n=5)"
   ]
  },
  {
   "cell_type": "code",
   "execution_count": 3,
   "id": "8bc699ea-f50f-403c-955e-858a9706877b",
   "metadata": {},
   "outputs": [],
   "source": [
    "def pattern2(n):\n",
    "    n_rows = n\n",
    "    for row in range(0, n_rows):\n",
    "        for col in range(0, row + 1):\n",
    "            print(\"* \", end = \"\")\n",
    "        print(\"\\n\")"
   ]
  },
  {
   "cell_type": "code",
   "execution_count": 4,
   "id": "007080f4-e8eb-4b42-9a72-63463e9b348c",
   "metadata": {},
   "outputs": [
    {
     "name": "stdout",
     "output_type": "stream",
     "text": [
      "* \n",
      "\n",
      "* * \n",
      "\n",
      "* * * \n",
      "\n",
      "* * * * \n",
      "\n",
      "* * * * * \n",
      "\n"
     ]
    }
   ],
   "source": [
    "pattern2(n=5)"
   ]
  },
  {
   "cell_type": "code",
   "execution_count": 5,
   "id": "38ebf547-27e3-4d43-a81b-bc2bb91da467",
   "metadata": {},
   "outputs": [],
   "source": [
    "def pattern3(n):\n",
    "    n_rows = n\n",
    "    for row in range(0, n_rows):\n",
    "        for col in range(0, n_rows - row):\n",
    "            print(\"* \", end = \"\")\n",
    "        print(\"\\n\")"
   ]
  },
  {
   "cell_type": "code",
   "execution_count": 6,
   "id": "9e052d4d-a3c0-4b8d-b301-7d5a821f94d0",
   "metadata": {},
   "outputs": [
    {
     "name": "stdout",
     "output_type": "stream",
     "text": [
      "* * * * * \n",
      "\n",
      "* * * * \n",
      "\n",
      "* * * \n",
      "\n",
      "* * \n",
      "\n",
      "* \n",
      "\n"
     ]
    }
   ],
   "source": [
    "pattern3(n=5)"
   ]
  },
  {
   "cell_type": "code",
   "execution_count": 11,
   "id": "237621d4-faa3-40a6-95d9-9e6233511b0c",
   "metadata": {},
   "outputs": [],
   "source": [
    "def pattern4(n):\n",
    "    n_rows = n\n",
    "    for row in range(1, n_rows + 1):\n",
    "        for col in range(1, row + 1):\n",
    "            print(col, end = \" \")\n",
    "        print(\"\\n\")"
   ]
  },
  {
   "cell_type": "code",
   "execution_count": 12,
   "id": "8bf5b2d9-9c6c-40dd-8718-9ec704bedc0d",
   "metadata": {},
   "outputs": [
    {
     "name": "stdout",
     "output_type": "stream",
     "text": [
      "1 \n",
      "\n",
      "1 2 \n",
      "\n",
      "1 2 3 \n",
      "\n",
      "1 2 3 4 \n",
      "\n",
      "1 2 3 4 5 \n",
      "\n"
     ]
    }
   ],
   "source": [
    "pattern4(n=5)"
   ]
  },
  {
   "cell_type": "code",
   "execution_count": 19,
   "id": "d4c07896-e1b6-467e-adcf-f381aba6ff62",
   "metadata": {},
   "outputs": [],
   "source": [
    "def pattern5(n):\n",
    "    n_rows = 2 * n\n",
    "    for row in range(0, n_rows):\n",
    "        no_of_cols = 2*n - row if row > n else row\n",
    "        for col in range(0, no_of_cols):\n",
    "            print(\"*\", end = \" \")\n",
    "        print(\"\\n\")"
   ]
  },
  {
   "cell_type": "code",
   "execution_count": 20,
   "id": "958501ee-8e8b-4e05-89dd-109401239e78",
   "metadata": {},
   "outputs": [
    {
     "name": "stdout",
     "output_type": "stream",
     "text": [
      "\n",
      "\n",
      "* \n",
      "\n",
      "* * \n",
      "\n",
      "* * * \n",
      "\n",
      "* * * * \n",
      "\n",
      "* * * * * \n",
      "\n",
      "* * * * \n",
      "\n",
      "* * * \n",
      "\n",
      "* * \n",
      "\n",
      "* \n",
      "\n"
     ]
    }
   ],
   "source": [
    "pattern5(n=5)"
   ]
  },
  {
   "cell_type": "code",
   "execution_count": 33,
   "id": "725f8bb8-9b04-443b-b0e4-7fa0c0748eee",
   "metadata": {},
   "outputs": [],
   "source": [
    "def pattern6(n):\n",
    "    n_rows = n\n",
    "    for row in range(1, n_rows + 1):\n",
    "        no_of_space = n_rows - row\n",
    "        for space in range(0, no_of_space):\n",
    "            print(\" \", end =\"\")\n",
    "        for col in range(1, row + 1):\n",
    "            print(\"*\", end = \"\")\n",
    "        print(\"\\n\")"
   ]
  },
  {
   "cell_type": "code",
   "execution_count": 34,
   "id": "4cce616a-fa0f-4585-bc7b-69fb000cffd3",
   "metadata": {},
   "outputs": [
    {
     "name": "stdout",
     "output_type": "stream",
     "text": [
      "    *\n",
      "\n",
      "   **\n",
      "\n",
      "  ***\n",
      "\n",
      " ****\n",
      "\n",
      "*****\n",
      "\n"
     ]
    }
   ],
   "source": [
    "pattern6(n=5)"
   ]
  },
  {
   "cell_type": "code",
   "execution_count": 50,
   "id": "45c517fd-c616-4880-ab8d-7373e1466302",
   "metadata": {},
   "outputs": [],
   "source": [
    "def pattern7(n):\n",
    "    n_rows = n\n",
    "    for row in range(0, n_rows ):\n",
    "        no_of_space = row\n",
    "        for space in range(0, no_of_space):\n",
    "            print(\" \", end =\"\")\n",
    "        for col in range(0, n_rows - row ):\n",
    "            print(\"*\", end = \"\")\n",
    "        print(\"\\n\")"
   ]
  },
  {
   "cell_type": "code",
   "execution_count": 51,
   "id": "c4343a89-91e8-4d36-ab30-e21986e776d7",
   "metadata": {},
   "outputs": [
    {
     "name": "stdout",
     "output_type": "stream",
     "text": [
      "*****\n",
      "\n",
      " ****\n",
      "\n",
      "  ***\n",
      "\n",
      "   **\n",
      "\n",
      "    *\n",
      "\n"
     ]
    }
   ],
   "source": [
    "pattern7(n=5)"
   ]
  },
  {
   "cell_type": "code",
   "execution_count": 58,
   "id": "f2bbf95b-2fd6-403b-9a60-c5252f95dcd3",
   "metadata": {},
   "outputs": [],
   "source": [
    "def pattern8(n):\n",
    "    n_rows = n\n",
    "    for row in range(0, n_rows):\n",
    "        n_spaces = n_rows - row\n",
    "        for space in range(n_spaces):\n",
    "            print(\" \", end = \"\")\n",
    "        cols = 2  * row + 1\n",
    "        for col in range(0, cols):\n",
    "            print(\"*\", end = \"\")\n",
    "        print(\"\\n\")"
   ]
  },
  {
   "cell_type": "code",
   "execution_count": 59,
   "id": "9aa664d3-c125-4651-88ed-533db9a4ebb9",
   "metadata": {},
   "outputs": [
    {
     "name": "stdout",
     "output_type": "stream",
     "text": [
      "     *\n",
      "\n",
      "    ***\n",
      "\n",
      "   *****\n",
      "\n",
      "  *******\n",
      "\n",
      " *********\n",
      "\n"
     ]
    }
   ],
   "source": [
    "pattern8(n=5)"
   ]
  },
  {
   "cell_type": "code",
   "execution_count": null,
   "id": "9c5774df-3cd5-4e67-923d-6372d1e3eb12",
   "metadata": {},
   "outputs": [],
   "source": []
  },
  {
   "cell_type": "code",
   "execution_count": 70,
   "id": "8cedaee1-cd40-446f-839f-481fb435f4b5",
   "metadata": {},
   "outputs": [],
   "source": [
    "def pattern9(n):\n",
    "    n_rows = n\n",
    "    for row in range(0, n_rows):\n",
    "        n_spaces = row\n",
    "        for space in range(n_spaces):\n",
    "            print(\" \", end = \"\")\n",
    "        cols = 2  * (n_rows - row) -1\n",
    "        for col in range(0, cols):\n",
    "            print(\"*\", end = \"\")\n",
    "      \n",
    "        print(\"\\n\")"
   ]
  },
  {
   "cell_type": "code",
   "execution_count": 71,
   "id": "9770b694-4aa9-4d0b-8a3d-d2c78d0fbb5c",
   "metadata": {},
   "outputs": [
    {
     "name": "stdout",
     "output_type": "stream",
     "text": [
      "*********\n",
      "\n",
      " *******\n",
      "\n",
      "  *****\n",
      "\n",
      "   ***\n",
      "\n",
      "    *\n",
      "\n"
     ]
    }
   ],
   "source": [
    "pattern9(n=5)"
   ]
  },
  {
   "cell_type": "code",
   "execution_count": 72,
   "id": "7e879e85-51ce-4532-9afc-8b6a8106b20d",
   "metadata": {},
   "outputs": [],
   "source": [
    "def pattern10(n):\n",
    "    n_rows = n\n",
    "    for row in range(1, n_rows + 1):\n",
    "        no_of_space = n_rows - row\n",
    "        for space in range(0, no_of_space):\n",
    "            print(\" \", end =\"\")\n",
    "        for col in range(1, row + 1):\n",
    "            print(\"* \", end = \"\")\n",
    "        print(\"\\n\")"
   ]
  },
  {
   "cell_type": "code",
   "execution_count": 73,
   "id": "4f9fe544-6587-4054-9eb7-91bb5668c0c3",
   "metadata": {},
   "outputs": [
    {
     "name": "stdout",
     "output_type": "stream",
     "text": [
      "    * \n",
      "\n",
      "   * * \n",
      "\n",
      "  * * * \n",
      "\n",
      " * * * * \n",
      "\n",
      "* * * * * \n",
      "\n"
     ]
    }
   ],
   "source": [
    "pattern10(n=5)"
   ]
  },
  {
   "cell_type": "code",
   "execution_count": 82,
   "id": "a452439b-df3b-4931-afe5-622844323313",
   "metadata": {},
   "outputs": [],
   "source": [
    "def pattern11(n):\n",
    "    n_rows = n\n",
    "    for row in range(0, n_rows):\n",
    "        no_of_space = row\n",
    "        for space in range(0, no_of_space):\n",
    "            print(\" \", end =\"\")\n",
    "        for col in range(0, n_rows - row):\n",
    "            print(\"* \", end = \"\")\n",
    "        print(\"\\n\")"
   ]
  },
  {
   "cell_type": "code",
   "execution_count": 83,
   "id": "d1d28731-5985-46de-b145-5afc82ea1033",
   "metadata": {},
   "outputs": [
    {
     "name": "stdout",
     "output_type": "stream",
     "text": [
      "* * * * * \n",
      "\n",
      " * * * * \n",
      "\n",
      "  * * * \n",
      "\n",
      "   * * \n",
      "\n",
      "    * \n",
      "\n"
     ]
    }
   ],
   "source": [
    "pattern11(n=5)"
   ]
  },
  {
   "cell_type": "code",
   "execution_count": 120,
   "id": "261f8049-d951-47f6-9123-8af336413b8b",
   "metadata": {},
   "outputs": [],
   "source": [
    "def pattern12(n):\n",
    "    n_rows = 2 * n\n",
    "    for row in range(0, n_rows):\n",
    "        n_spaces = n_rows - row - 1 if row >= n else row\n",
    "        for space in range(0, n_spaces):\n",
    "            print(\" \", end = \"\")\n",
    "        n_cols = row - n + 1  if row >= n else n - row\n",
    "        for col in range(0, n_cols):\n",
    "            print(\"* \", end=\"\")\n",
    "        print(\"\\n\")\n",
    "    "
   ]
  },
  {
   "cell_type": "code",
   "execution_count": 121,
   "id": "634a7510-cc4d-4ee5-9d5a-2f91ea5be09d",
   "metadata": {},
   "outputs": [
    {
     "name": "stdout",
     "output_type": "stream",
     "text": [
      "* * * * * \n",
      "\n",
      " * * * * \n",
      "\n",
      "  * * * \n",
      "\n",
      "   * * \n",
      "\n",
      "    * \n",
      "\n",
      "    * \n",
      "\n",
      "   * * \n",
      "\n",
      "  * * * \n",
      "\n",
      " * * * * \n",
      "\n",
      "* * * * * \n",
      "\n"
     ]
    }
   ],
   "source": [
    "pattern12(n=5)"
   ]
  },
  {
   "cell_type": "code",
   "execution_count": null,
   "id": "3b831bea-91b7-4e5d-a9f3-4d58a8cffa75",
   "metadata": {},
   "outputs": [],
   "source": []
  }
 ],
 "metadata": {
  "kernelspec": {
   "display_name": "Python 3 (ipykernel)",
   "language": "python",
   "name": "python3"
  },
  "language_info": {
   "codemirror_mode": {
    "name": "ipython",
    "version": 3
   },
   "file_extension": ".py",
   "mimetype": "text/x-python",
   "name": "python",
   "nbconvert_exporter": "python",
   "pygments_lexer": "ipython3",
   "version": "3.7.9"
  }
 },
 "nbformat": 4,
 "nbformat_minor": 5
}
